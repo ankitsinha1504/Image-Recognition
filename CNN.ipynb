{
 "cells": [
  {
   "cell_type": "markdown",
   "metadata": {},
   "source": [
    "# CNN"
   ]
  },
  {
   "cell_type": "markdown",
   "metadata": {},
   "source": [
    "IMPORTING THE LIBRARIES"
   ]
  },
  {
   "cell_type": "code",
   "execution_count": 1,
   "metadata": {},
   "outputs": [
    {
     "name": "stderr",
     "output_type": "stream",
     "text": [
      "Using TensorFlow backend.\n"
     ]
    }
   ],
   "source": [
    "import tensorflow as tf\n",
    "import keras\n",
    "from keras.preprocessing.image import ImageDataGenerator"
   ]
  },
  {
   "cell_type": "code",
   "execution_count": 2,
   "metadata": {},
   "outputs": [
    {
     "name": "stdout",
     "output_type": "stream",
     "text": [
      "2.1.0\n",
      "2.3.1\n"
     ]
    }
   ],
   "source": [
    "print(tf.__version__)\n",
    "print(keras.__version__)"
   ]
  },
  {
   "cell_type": "markdown",
   "metadata": {},
   "source": [
    "<b>PART-1 DATA PREPROCESSING</b>"
   ]
  },
  {
   "cell_type": "markdown",
   "metadata": {},
   "source": [
    "<b>PREPROCESSING THE TRAINING SET</b>"
   ]
  },
  {
   "cell_type": "code",
   "execution_count": 3,
   "metadata": {},
   "outputs": [
    {
     "name": "stdout",
     "output_type": "stream",
     "text": [
      "Found 8000 images belonging to 2 classes.\n"
     ]
    }
   ],
   "source": [
    "train_datagen = ImageDataGenerator(\n",
    "        rescale=1./255,\n",
    "        shear_range=0.2,\n",
    "        zoom_range=0.2,\n",
    "        horizontal_flip=True)\n",
    "test_datagen = ImageDataGenerator(rescale=1./255)\n",
    "train_set = train_datagen.flow_from_directory(\n",
    "        'dataset/train_set',\n",
    "        target_size=(64, 64),\n",
    "        batch_size=32,\n",
    "        class_mode='binary')"
   ]
  },
  {
   "cell_type": "markdown",
   "metadata": {},
   "source": [
    "<b>PREPROCESSING THE TEST SET</b>"
   ]
  },
  {
   "cell_type": "code",
   "execution_count": 4,
   "metadata": {},
   "outputs": [
    {
     "name": "stdout",
     "output_type": "stream",
     "text": [
      "Found 2000 images belonging to 2 classes.\n"
     ]
    }
   ],
   "source": [
    "test_datagen = ImageDataGenerator(rescale=1./255)\n",
    "test_set = test_datagen.flow_from_directory(\n",
    "        'dataset/test_set',\n",
    "        target_size=(64, 64),\n",
    "        batch_size=32,\n",
    "        class_mode='binary')"
   ]
  },
  {
   "cell_type": "markdown",
   "metadata": {},
   "source": [
    "<b>PART-2 BUILDING THE CNN</b>"
   ]
  },
  {
   "cell_type": "markdown",
   "metadata": {},
   "source": [
    "<b>INITIALISING THE CNN</b>"
   ]
  },
  {
   "cell_type": "code",
   "execution_count": 5,
   "metadata": {},
   "outputs": [],
   "source": [
    "cnn = tf.keras.models.Sequential()"
   ]
  },
  {
   "cell_type": "markdown",
   "metadata": {},
   "source": [
    "<b>STEP1: CONVOLUTION</b>"
   ]
  },
  {
   "cell_type": "code",
   "execution_count": 8,
   "metadata": {},
   "outputs": [],
   "source": [
    "cnn.add(tf.keras.layers.Conv2D(filters=32,kernel_size=3,activation='relu',input_shape=[64,64,3]))"
   ]
  },
  {
   "cell_type": "markdown",
   "metadata": {},
   "source": [
    "<b>STEP 2 - POOLING</b>"
   ]
  },
  {
   "cell_type": "code",
   "execution_count": 10,
   "metadata": {},
   "outputs": [],
   "source": [
    "cnn.add(tf.keras.layers.MaxPool2D(pool_size=2,strides=2))"
   ]
  },
  {
   "cell_type": "markdown",
   "metadata": {},
   "source": [
    "<b>ADDING A SECOND CONVOLUTIONAL LAYER</b>"
   ]
  },
  {
   "cell_type": "code",
   "execution_count": 11,
   "metadata": {},
   "outputs": [],
   "source": [
    "cnn.add(tf.keras.layers.Conv2D(filters=32,kernel_size=3,activation='relu'))\n",
    "cnn.add(tf.keras.layers.MaxPool2D(pool_size=2,strides=2))"
   ]
  },
  {
   "cell_type": "markdown",
   "metadata": {},
   "source": [
    "<b>STEP-3 FLATTENING</b>"
   ]
  },
  {
   "cell_type": "code",
   "execution_count": 12,
   "metadata": {},
   "outputs": [],
   "source": [
    "cnn.add(tf.keras.layers.Flatten())"
   ]
  },
  {
   "cell_type": "markdown",
   "metadata": {},
   "source": [
    "<b>STEP-4 FULL CONNECTIOON (Adding the fully connected layer)</b>"
   ]
  },
  {
   "cell_type": "code",
   "execution_count": 13,
   "metadata": {},
   "outputs": [],
   "source": [
    "cnn.add(tf.keras.layers.Dense(units=128,activation='relu'))"
   ]
  },
  {
   "cell_type": "markdown",
   "metadata": {},
   "source": [
    "<b>STEP-5 OUTPUT LAYER</b>"
   ]
  },
  {
   "cell_type": "code",
   "execution_count": 14,
   "metadata": {},
   "outputs": [],
   "source": [
    "cnn.add(tf.keras.layers.Dense(units=1,activation='sigmoid'))"
   ]
  },
  {
   "cell_type": "markdown",
   "metadata": {},
   "source": [
    "<b>PART-3 TRAINING THE CNN</b>"
   ]
  },
  {
   "cell_type": "code",
   "execution_count": 15,
   "metadata": {},
   "outputs": [],
   "source": [
    "cnn.compile(optimizer='adam',loss='binary_crossentropy',metrics=['accuracy'])"
   ]
  },
  {
   "cell_type": "markdown",
   "metadata": {},
   "source": [
    "<b>TRAINING THE CNN ON THE TRAINING SET AND EVALUATING IT ON TEST SET</b>"
   ]
  },
  {
   "cell_type": "code",
   "execution_count": 16,
   "metadata": {},
   "outputs": [
    {
     "name": "stdout",
     "output_type": "stream",
     "text": [
      "WARNING:tensorflow:sample_weight modes were coerced from\n",
      "  ...\n",
      "    to  \n",
      "  ['...']\n",
      "WARNING:tensorflow:sample_weight modes were coerced from\n",
      "  ...\n",
      "    to  \n",
      "  ['...']\n",
      "Train for 250 steps, validate for 63 steps\n",
      "Epoch 1/25\n",
      "250/250 [==============================] - 166s 662ms/step - loss: 0.6832 - accuracy: 0.5631 - val_loss: 0.6470 - val_accuracy: 0.6295\n",
      "Epoch 2/25\n",
      "250/250 [==============================] - 30s 122ms/step - loss: 0.6268 - accuracy: 0.6496 - val_loss: 0.5989 - val_accuracy: 0.6715\n",
      "Epoch 3/25\n",
      "250/250 [==============================] - 33s 131ms/step - loss: 0.5795 - accuracy: 0.6991 - val_loss: 0.6109 - val_accuracy: 0.6940\n",
      "Epoch 4/25\n",
      "250/250 [==============================] - 33s 132ms/step - loss: 0.5486 - accuracy: 0.7218 - val_loss: 0.5030 - val_accuracy: 0.7570\n",
      "Epoch 5/25\n",
      "250/250 [==============================] - 33s 133ms/step - loss: 0.5123 - accuracy: 0.7456 - val_loss: 0.4769 - val_accuracy: 0.7730\n",
      "Epoch 6/25\n",
      "250/250 [==============================] - 34s 136ms/step - loss: 0.4810 - accuracy: 0.7675 - val_loss: 0.4906 - val_accuracy: 0.7710\n",
      "Epoch 7/25\n",
      "250/250 [==============================] - 34s 137ms/step - loss: 0.4520 - accuracy: 0.7869 - val_loss: 0.4356 - val_accuracy: 0.8035\n",
      "Epoch 8/25\n",
      "250/250 [==============================] - 35s 140ms/step - loss: 0.4338 - accuracy: 0.7989 - val_loss: 0.4446 - val_accuracy: 0.7980\n",
      "Epoch 9/25\n",
      "250/250 [==============================] - 36s 143ms/step - loss: 0.4153 - accuracy: 0.8089 - val_loss: 0.4390 - val_accuracy: 0.8080\n",
      "Epoch 10/25\n",
      "250/250 [==============================] - 35s 141ms/step - loss: 0.4015 - accuracy: 0.8134 - val_loss: 0.4467 - val_accuracy: 0.7955\n",
      "Epoch 11/25\n",
      "250/250 [==============================] - 36s 143ms/step - loss: 0.3882 - accuracy: 0.8232 - val_loss: 0.4890 - val_accuracy: 0.7700\n",
      "Epoch 12/25\n",
      "250/250 [==============================] - 36s 142ms/step - loss: 0.3811 - accuracy: 0.8261 - val_loss: 0.4257 - val_accuracy: 0.8095\n",
      "Epoch 13/25\n",
      "250/250 [==============================] - 35s 140ms/step - loss: 0.3554 - accuracy: 0.8404 - val_loss: 0.4482 - val_accuracy: 0.8050\n",
      "Epoch 14/25\n",
      "250/250 [==============================] - 35s 141ms/step - loss: 0.3398 - accuracy: 0.8491 - val_loss: 0.4653 - val_accuracy: 0.8085\n",
      "Epoch 15/25\n",
      "250/250 [==============================] - 35s 140ms/step - loss: 0.3289 - accuracy: 0.8584 - val_loss: 0.4094 - val_accuracy: 0.8340\n",
      "Epoch 16/25\n",
      "250/250 [==============================] - 35s 140ms/step - loss: 0.3158 - accuracy: 0.8549 - val_loss: 0.4358 - val_accuracy: 0.8135\n",
      "Epoch 17/25\n",
      "250/250 [==============================] - 35s 140ms/step - loss: 0.3085 - accuracy: 0.8670 - val_loss: 0.4593 - val_accuracy: 0.8170\n",
      "Epoch 18/25\n",
      "250/250 [==============================] - 35s 140ms/step - loss: 0.2767 - accuracy: 0.8813 - val_loss: 0.4549 - val_accuracy: 0.8225\n",
      "Epoch 19/25\n",
      "250/250 [==============================] - 35s 141ms/step - loss: 0.2745 - accuracy: 0.8791 - val_loss: 0.5023 - val_accuracy: 0.8000\n",
      "Epoch 20/25\n",
      "250/250 [==============================] - 35s 140ms/step - loss: 0.2507 - accuracy: 0.8929 - val_loss: 0.5240 - val_accuracy: 0.8055\n",
      "Epoch 21/25\n",
      "250/250 [==============================] - 35s 140ms/step - loss: 0.2423 - accuracy: 0.8966 - val_loss: 0.4920 - val_accuracy: 0.8230\n",
      "Epoch 22/25\n",
      "250/250 [==============================] - 35s 140ms/step - loss: 0.2316 - accuracy: 0.9013 - val_loss: 0.5199 - val_accuracy: 0.8150\n",
      "Epoch 23/25\n",
      "250/250 [==============================] - 35s 140ms/step - loss: 0.2326 - accuracy: 0.9059 - val_loss: 0.5430 - val_accuracy: 0.8135\n",
      "Epoch 24/25\n",
      "250/250 [==============================] - 35s 140ms/step - loss: 0.2074 - accuracy: 0.9155 - val_loss: 0.5461 - val_accuracy: 0.8170\n",
      "Epoch 25/25\n",
      "250/250 [==============================] - 35s 140ms/step - loss: 0.2071 - accuracy: 0.9155 - val_loss: 0.5732 - val_accuracy: 0.8075\n"
     ]
    },
    {
     "data": {
      "text/plain": [
       "<tensorflow.python.keras.callbacks.History at 0x29b967fdfc8>"
      ]
     },
     "execution_count": 16,
     "metadata": {},
     "output_type": "execute_result"
    }
   ],
   "source": [
    "cnn.fit(x=train_set,validation_data=test_set,epochs=25)"
   ]
  },
  {
   "cell_type": "markdown",
   "metadata": {},
   "source": [
    "<b>PART-4 PREDICTING A SINGLE VALUE</b>"
   ]
  },
  {
   "cell_type": "code",
   "execution_count": 36,
   "metadata": {},
   "outputs": [
    {
     "data": {
      "text/plain": [
       "{'cats': 0, 'dogs': 1}"
      ]
     },
     "execution_count": 36,
     "metadata": {},
     "output_type": "execute_result"
    }
   ],
   "source": [
    "import numpy as np\n",
    "from keras.preprocessing import image\n",
    "test_image = image.load_img('dataset/single_prediction/cat_or_dog_6.jpg',target_size=(64,64))\n",
    "test_image = image.img_to_array(test_image)\n",
    "test_image = np.expand_dims(test_image,axis=0)\n",
    "result = cnn.predict(test_image)\n",
    "train_set.class_indices"
   ]
  },
  {
   "cell_type": "code",
   "execution_count": 37,
   "metadata": {},
   "outputs": [
    {
     "name": "stdout",
     "output_type": "stream",
     "text": [
      "cat\n"
     ]
    }
   ],
   "source": [
    "if result[0][0] == 1:\n",
    "    prediction = 'dog'\n",
    "else:\n",
    "    prediction = 'cat'\n",
    "print(prediction)"
   ]
  },
  {
   "cell_type": "code",
   "execution_count": null,
   "metadata": {},
   "outputs": [],
   "source": []
  }
 ],
 "metadata": {
  "kernelspec": {
   "display_name": "Python 3.7 (tensorflow_)",
   "language": "python",
   "name": "tensorflow_"
  },
  "language_info": {
   "codemirror_mode": {
    "name": "ipython",
    "version": 3
   },
   "file_extension": ".py",
   "mimetype": "text/x-python",
   "name": "python",
   "nbconvert_exporter": "python",
   "pygments_lexer": "ipython3",
   "version": "3.7.7"
  }
 },
 "nbformat": 4,
 "nbformat_minor": 4
}
